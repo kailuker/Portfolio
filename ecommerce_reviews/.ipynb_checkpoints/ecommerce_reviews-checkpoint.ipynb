{
 "cells": [
  {
   "cell_type": "markdown",
   "id": "79f5152e-8523-4136-b04a-1c98ea9521a3",
   "metadata": {},
   "source": [
    "# Predicting Clothing Item Ratings For a Women's Clothing Company\n",
    "---\n",
    "# Introduction\n",
    "[This kaggle dataset](https://www.kaggle.com/nicapotato/womens-ecommerce-clothing-reviews) includes 23486 rows of reviews from a women's e-commerce clothing company which is not identified. Each row represents a single reviewed item, and there are 10 columns of additional information about the garment and customer satisfaction.\n",
    "\n",
    "In this project, we are investigating the roles of different factors in predicting customers' ratings of clothing items using linear regression. Most information in this dataset is self-reported, so some values may have dubious accuracy, however we can use this as a starting point for predicting item ratings.\n",
    "\n",
    "I hypothesize that items like pants may need to be tried on to judge fit, and will be negatively correlated with ratings. As well, I predict that recommendation status will be positively correlated with ratings, as people who recommend and item will likely rate it highly.\n",
    "\n",
    "Being able to use customer or item attributes to predict rating values can have a huge impact on sales, as it is well known that customers take reviews into account when shopping online (e.g. [Influence of consumer reviews on online purchasing decisions in older and younger adults](https://www.sciencedirect.com/science/article/pii/S0167923618300861)). This information could inform types of items carried, what products are highly advertised and to whom, as well as other business decisions.\n",
    "\n",
    "Many of the variables included in this dataset consist of strings or binary integers. String values make linear regression difficult because they require the variables to be numerically encoded. As well, binary variables limit the amount of information included in the values, and make visualizations such as scatterplots impossible."
   ]
  },
  {
   "cell_type": "markdown",
   "id": "0f76034e",
   "metadata": {},
   "source": [
    "---\n",
    "# Importing & Viewing the Data"
   ]
  },
  {
   "cell_type": "code",
   "execution_count": 83,
   "id": "d230d0e7-a0b7-4a21-ae6b-5a76298c656d",
   "metadata": {
    "tags": []
   },
   "outputs": [],
   "source": [
    "# importing libraries\n",
    "import pandas as pd\n",
    "import numpy as np\n",
    "from scipy.stats import ks_2samp\n",
    "import matplotlib.pyplot as plt\n",
    "import seaborn as sns\n",
    "import statistics as st\n",
    "import statsmodels.api as sm\n",
    "from sklearn.model_selection import train_test_split\n",
    "from sklearn.linear_model import LinearRegression\n",
    "from sklearn import metrics as mt\n",
    "from math import sqrt\n",
    "from sklearn.model_selection import cross_val_score"
   ]
  },
  {
   "cell_type": "code",
   "execution_count": 48,
   "id": "eb14a84a-5296-4eb2-be4f-087e1ffa08e9",
   "metadata": {},
   "outputs": [],
   "source": [
    "# importing data\n",
    "review_data = pd.read_csv('/Users/kailuker/Documents/Data Analytics/Project3/Womens Clothing E-commerce Reviews.csv')"
   ]
  },
  {
   "cell_type": "code",
   "execution_count": 49,
   "id": "0c7982e2-7d5e-46cd-b239-e6bb8ad2ea54",
   "metadata": {
    "scrolled": true
   },
   "outputs": [
    {
     "data": {
      "text/html": [
       "<div>\n",
       "<style scoped>\n",
       "    .dataframe tbody tr th:only-of-type {\n",
       "        vertical-align: middle;\n",
       "    }\n",
       "\n",
       "    .dataframe tbody tr th {\n",
       "        vertical-align: top;\n",
       "    }\n",
       "\n",
       "    .dataframe thead th {\n",
       "        text-align: right;\n",
       "    }\n",
       "</style>\n",
       "<table border=\"1\" class=\"dataframe\">\n",
       "  <thead>\n",
       "    <tr style=\"text-align: right;\">\n",
       "      <th></th>\n",
       "      <th>Unnamed: 0</th>\n",
       "      <th>Clothing ID</th>\n",
       "      <th>Age</th>\n",
       "      <th>Title</th>\n",
       "      <th>Review Text</th>\n",
       "      <th>Rating</th>\n",
       "      <th>Recommended IND</th>\n",
       "      <th>Positive Feedback Count</th>\n",
       "      <th>Division Name</th>\n",
       "      <th>Department Name</th>\n",
       "      <th>Class Name</th>\n",
       "    </tr>\n",
       "  </thead>\n",
       "  <tbody>\n",
       "    <tr>\n",
       "      <th>0</th>\n",
       "      <td>0</td>\n",
       "      <td>767</td>\n",
       "      <td>33</td>\n",
       "      <td>NaN</td>\n",
       "      <td>Absolutely wonderful - silky and sexy and comf...</td>\n",
       "      <td>4</td>\n",
       "      <td>1</td>\n",
       "      <td>0</td>\n",
       "      <td>Initmates</td>\n",
       "      <td>Intimate</td>\n",
       "      <td>Intimates</td>\n",
       "    </tr>\n",
       "    <tr>\n",
       "      <th>1</th>\n",
       "      <td>1</td>\n",
       "      <td>1080</td>\n",
       "      <td>34</td>\n",
       "      <td>NaN</td>\n",
       "      <td>Love this dress!  it's sooo pretty.  i happene...</td>\n",
       "      <td>5</td>\n",
       "      <td>1</td>\n",
       "      <td>4</td>\n",
       "      <td>General</td>\n",
       "      <td>Dresses</td>\n",
       "      <td>Dresses</td>\n",
       "    </tr>\n",
       "    <tr>\n",
       "      <th>2</th>\n",
       "      <td>2</td>\n",
       "      <td>1077</td>\n",
       "      <td>60</td>\n",
       "      <td>Some major design flaws</td>\n",
       "      <td>I had such high hopes for this dress and reall...</td>\n",
       "      <td>3</td>\n",
       "      <td>0</td>\n",
       "      <td>0</td>\n",
       "      <td>General</td>\n",
       "      <td>Dresses</td>\n",
       "      <td>Dresses</td>\n",
       "    </tr>\n",
       "    <tr>\n",
       "      <th>3</th>\n",
       "      <td>3</td>\n",
       "      <td>1049</td>\n",
       "      <td>50</td>\n",
       "      <td>My favorite buy!</td>\n",
       "      <td>I love, love, love this jumpsuit. it's fun, fl...</td>\n",
       "      <td>5</td>\n",
       "      <td>1</td>\n",
       "      <td>0</td>\n",
       "      <td>General Petite</td>\n",
       "      <td>Bottoms</td>\n",
       "      <td>Pants</td>\n",
       "    </tr>\n",
       "    <tr>\n",
       "      <th>4</th>\n",
       "      <td>4</td>\n",
       "      <td>847</td>\n",
       "      <td>47</td>\n",
       "      <td>Flattering shirt</td>\n",
       "      <td>This shirt is very flattering to all due to th...</td>\n",
       "      <td>5</td>\n",
       "      <td>1</td>\n",
       "      <td>6</td>\n",
       "      <td>General</td>\n",
       "      <td>Tops</td>\n",
       "      <td>Blouses</td>\n",
       "    </tr>\n",
       "  </tbody>\n",
       "</table>\n",
       "</div>"
      ],
      "text/plain": [
       "   Unnamed: 0  Clothing ID  Age                    Title  \\\n",
       "0           0          767   33                      NaN   \n",
       "1           1         1080   34                      NaN   \n",
       "2           2         1077   60  Some major design flaws   \n",
       "3           3         1049   50         My favorite buy!   \n",
       "4           4          847   47         Flattering shirt   \n",
       "\n",
       "                                         Review Text  Rating  Recommended IND  \\\n",
       "0  Absolutely wonderful - silky and sexy and comf...       4                1   \n",
       "1  Love this dress!  it's sooo pretty.  i happene...       5                1   \n",
       "2  I had such high hopes for this dress and reall...       3                0   \n",
       "3  I love, love, love this jumpsuit. it's fun, fl...       5                1   \n",
       "4  This shirt is very flattering to all due to th...       5                1   \n",
       "\n",
       "   Positive Feedback Count   Division Name Department Name Class Name  \n",
       "0                        0       Initmates        Intimate  Intimates  \n",
       "1                        4         General         Dresses    Dresses  \n",
       "2                        0         General         Dresses    Dresses  \n",
       "3                        0  General Petite         Bottoms      Pants  \n",
       "4                        6         General            Tops    Blouses  "
      ]
     },
     "execution_count": 49,
     "metadata": {},
     "output_type": "execute_result"
    }
   ],
   "source": [
    "# viewing the first few rows of the data to get a feel for the data structure & values\n",
    "review_data.head()"
   ]
  },
  {
   "cell_type": "markdown",
   "id": "44052271",
   "metadata": {},
   "source": [
    "## Column Label Glossary\n",
    "\n",
    "### Unnamed: 0\n",
    "- Index number\n",
    "\n",
    "### Clothing ID\n",
    "- Unique identifier for the specific item\n",
    "\n",
    "### Age\n",
    "- Reviewer's self-reported age\n",
    "\n",
    "### Title\n",
    "- Title of the review\n",
    "\n",
    "### Review Text\n",
    "- Body of the review\n",
    "\n",
    "### Rating\n",
    "- Integer rating from 1-5\n",
    "\n",
    "### Recommended IND\n",
    "- Binary variable\n",
    "- Represents whether (1) or not (0) the customer would recommend the item to others\n",
    "\n",
    "### Positive Feedback Count\n",
    "- Number of customers that found the review helpful\n",
    "\n",
    "### Division Name\n",
    "- Highest-level item category\n",
    "\n",
    "### Department Name\n",
    "- Item department name\n",
    "\n",
    "### Class Name\n",
    "- Specific item category name"
   ]
  },
  {
   "cell_type": "markdown",
   "id": "8e993b79-a422-4d06-818c-f725b9e4d020",
   "metadata": {},
   "source": [
    "---\n",
    "# Exploratory Analysis & Data Cleaning"
   ]
  },
  {
   "cell_type": "code",
   "execution_count": 50,
   "id": "dfcfd528-50fe-4f6e-8c53-8a6632c6a22b",
   "metadata": {},
   "outputs": [],
   "source": [
    "# removing spaces & capital letters from column names so that they are easier to work with\n",
    "review_data.columns=['unnamed:0', 'clothing_id', 'age', 'title', 'review_text', 'rating', 'recommended_ind', 'positive_feedback_count', 'division_name', 'department_name', 'class_name']"
   ]
  },
  {
   "cell_type": "markdown",
   "id": "e703e087-8cfa-48a6-bc10-6ed08f2b2865",
   "metadata": {},
   "source": [
    "## Deciding what clothing category type to use\n",
    "- The category should not be too broad or too specific\n",
    "- The category should not have too many categories\n",
    "- department_name fits these criteria"
   ]
  },
  {
   "cell_type": "code",
   "execution_count": 51,
   "id": "bc3f31e0-670f-496f-8c60-518e537acd6f",
   "metadata": {},
   "outputs": [
    {
     "data": {
      "text/plain": [
       "array(['Initmates', 'General', 'General Petite', nan], dtype=object)"
      ]
     },
     "execution_count": 51,
     "metadata": {},
     "output_type": "execute_result"
    }
   ],
   "source": [
    "# viewing the unique values within division_name\n",
    "review_data['division_name'].unique()"
   ]
  },
  {
   "cell_type": "code",
   "execution_count": 52,
   "id": "4019d20c-4125-4124-9965-02b2ab581a21",
   "metadata": {},
   "outputs": [
    {
     "data": {
      "text/plain": [
       "array(['Intimate', 'Dresses', 'Bottoms', 'Tops', 'Jackets', 'Trend', nan],\n",
       "      dtype=object)"
      ]
     },
     "execution_count": 52,
     "metadata": {},
     "output_type": "execute_result"
    }
   ],
   "source": [
    "# viewing the unique values within department_name\n",
    "review_data['department_name'].unique()"
   ]
  },
  {
   "cell_type": "code",
   "execution_count": 53,
   "id": "c83a7cb6-566e-4023-bbef-ea188cf733c1",
   "metadata": {},
   "outputs": [
    {
     "data": {
      "text/plain": [
       "array(['Intimates', 'Dresses', 'Pants', 'Blouses', 'Knits', 'Outerwear',\n",
       "       'Lounge', 'Sweaters', 'Skirts', 'Fine gauge', 'Sleep', 'Jackets',\n",
       "       'Swim', 'Trend', 'Jeans', 'Legwear', 'Shorts', 'Layering',\n",
       "       'Casual bottoms', nan, 'Chemises'], dtype=object)"
      ]
     },
     "execution_count": 53,
     "metadata": {},
     "output_type": "execute_result"
    }
   ],
   "source": [
    "# viewing the unique values within class_name\n",
    "review_data['class_name'].unique()"
   ]
  },
  {
   "cell_type": "markdown",
   "id": "76f54789-6505-4eda-a86b-028b70d494e6",
   "metadata": {},
   "source": [
    "## Investigating NaN values\n",
    "- Do not want to skew the data by removing missing values that have a specific pattern\n",
    "- Because most NaNs are in columns that I will not be analyzing, I will only compare the shapes of the department_name distribution with & without missing values\n",
    "- The department_name column is not significantly changed when missing values are dropped, so I am comfortable dropping NaN values\n",
    "- This consistency is also shown visually in the graphs below"
   ]
  },
  {
   "cell_type": "markdown",
   "id": "cbd0f63a",
   "metadata": {},
   "source": [
    "### Counting the Number of Missing Values"
   ]
  },
  {
   "cell_type": "code",
   "execution_count": 54,
   "id": "92d31de5-5cc9-4f5e-a196-468c2b7e2886",
   "metadata": {
    "scrolled": true
   },
   "outputs": [
    {
     "data": {
      "text/plain": [
       "unnamed:0                     0\n",
       "clothing_id                   0\n",
       "age                           0\n",
       "title                      3810\n",
       "review_text                 845\n",
       "rating                        0\n",
       "recommended_ind               0\n",
       "positive_feedback_count       0\n",
       "division_name                14\n",
       "department_name              14\n",
       "class_name                   14\n",
       "dtype: int64"
      ]
     },
     "execution_count": 54,
     "metadata": {},
     "output_type": "execute_result"
    }
   ],
   "source": [
    "# counting missing values in each category\n",
    "review_data.isna().sum()"
   ]
  },
  {
   "cell_type": "code",
   "execution_count": 55,
   "id": "910592f7-5bf3-4041-863f-34f05ea386ba",
   "metadata": {},
   "outputs": [],
   "source": [
    "# making a new variable to store data without missing values\n",
    "no_miss_reviews = review_data.dropna()"
   ]
  },
  {
   "cell_type": "markdown",
   "id": "329b9684",
   "metadata": {},
   "source": [
    "### Comparing the Data With & Without Missing Values"
   ]
  },
  {
   "cell_type": "code",
   "execution_count": 56,
   "id": "a05a73fd",
   "metadata": {},
   "outputs": [
    {
     "data": {
      "text/plain": [
       "KstestResult(statistic=0.16666666666666666, pvalue=0.9999999999999998)"
      ]
     },
     "execution_count": 56,
     "metadata": {},
     "output_type": "execute_result"
    }
   ],
   "source": [
    "# conducting a 2-sample Kolmogorov-Smirnov test to see if shapes of the data with & without missing values is significantly different\n",
    "# the shapes of the samples are not significantly different even though we have dropped missing values\n",
    "ks_2samp(review_data['department_name'].value_counts(), no_miss_reviews['department_name'].value_counts())"
   ]
  },
  {
   "cell_type": "code",
   "execution_count": 57,
   "id": "7b177121-3dae-4441-80e4-6ae18e6cc4d6",
   "metadata": {},
   "outputs": [
    {
     "data": {
      "text/plain": [
       "<AxesSubplot:title={'center':'Item Type Distribution Including Missing Values'}, xlabel='department_name', ylabel='Count'>"
      ]
     },
     "execution_count": 57,
     "metadata": {},
     "output_type": "execute_result"
    },
    {
     "data": {
      "image/png": "[encoded data removed]",
      "text/plain": [
       "<Figure size 432x288 with 1 Axes>"
      ]
     },
     "metadata": {
      "needs_background": "light"
     },
     "output_type": "display_data"
    }
   ],
   "source": [
    "# department_name distribution including missing values\n",
    "review_data.groupby('department_name').size().plot(kind='bar', title='Item Type Distribution Including Missing Values', ylabel='Count')"
   ]
  },
  {
   "cell_type": "code",
   "execution_count": 58,
   "id": "ab08489c-aecf-4b7b-9523-2124afcede7b",
   "metadata": {},
   "outputs": [
    {
     "data": {
      "text/plain": [
       "<AxesSubplot:title={'center':'Item Type Distribution Excluding Missing Values'}, xlabel='department_name', ylabel='Count'>"
      ]
     },
     "execution_count": 58,
     "metadata": {},
     "output_type": "execute_result"
    },
    {
     "data": {
      "image/png": "[encoded data removed]",
      "text/plain": [
       "<Figure size 432x288 with 1 Axes>"
      ]
     },
     "metadata": {
      "needs_background": "light"
     },
     "output_type": "display_data"
    }
   ],
   "source": [
    "# department_name distribution without missing values\n",
    "no_miss_reviews.groupby('department_name').size().plot(kind='bar',title='Item Type Distribution Excluding Missing Values', ylabel='Count')"
   ]
  },
  {
   "cell_type": "markdown",
   "id": "3d7df343-c048-46fb-a8f7-ee6fc3b9d0ca",
   "metadata": {},
   "source": [
    "## Getting Descriptive Statistics of Columns"
   ]
  },
  {
   "cell_type": "code",
   "execution_count": 59,
   "id": "c1794921-2344-4e81-94b9-8bff9e2d16bd",
   "metadata": {},
   "outputs": [],
   "source": [
    "# make department_name into several numeric columns so that it can be included in the linear regression\n",
    "department_name_encoded = pd.get_dummies(no_miss_reviews['department_name'])"
   ]
  },
  {
   "cell_type": "code",
   "execution_count": 60,
   "id": "8f940664-f070-4dd5-9227-7b2cf30f88f2",
   "metadata": {},
   "outputs": [],
   "source": [
    "# adding the encoded department name columns to the rest of the data for the regression\n",
    "regression_data = pd.concat([no_miss_reviews, department_name_encoded], axis=1)"
   ]
  },
  {
   "cell_type": "code",
   "execution_count": 61,
   "id": "0015f621-b3ff-42c9-bb83-2ed6683c9e0c",
   "metadata": {},
   "outputs": [],
   "source": [
    "# dropping irrelevant data\n",
    "regression_data.drop(columns=['unnamed:0', 'clothing_id', 'title', 'review_text', 'division_name', 'department_name', 'class_name'], inplace=True)"
   ]
  },
  {
   "cell_type": "code",
   "execution_count": 62,
   "id": "a4aaba76-757a-458d-9575-35ffcdb21313",
   "metadata": {},
   "outputs": [
    {
     "data": {
      "text/html": [
       "<div>\n",
       "<style scoped>\n",
       "    .dataframe tbody tr th:only-of-type {\n",
       "        vertical-align: middle;\n",
       "    }\n",
       "\n",
       "    .dataframe tbody tr th {\n",
       "        vertical-align: top;\n",
       "    }\n",
       "\n",
       "    .dataframe thead th {\n",
       "        text-align: right;\n",
       "    }\n",
       "</style>\n",
       "<table border=\"1\" class=\"dataframe\">\n",
       "  <thead>\n",
       "    <tr style=\"text-align: right;\">\n",
       "      <th></th>\n",
       "      <th>age</th>\n",
       "      <th>rating</th>\n",
       "      <th>recommended_ind</th>\n",
       "      <th>positive_feedback_count</th>\n",
       "      <th>Bottoms</th>\n",
       "      <th>Dresses</th>\n",
       "      <th>Intimate</th>\n",
       "      <th>Jackets</th>\n",
       "      <th>Tops</th>\n",
       "      <th>Trend</th>\n",
       "    </tr>\n",
       "  </thead>\n",
       "  <tbody>\n",
       "    <tr>\n",
       "      <th>count</th>\n",
       "      <td>19662.000000</td>\n",
       "      <td>19662.000000</td>\n",
       "      <td>19662.000000</td>\n",
       "      <td>19662.000000</td>\n",
       "      <td>19662.000000</td>\n",
       "      <td>19662.000000</td>\n",
       "      <td>19662.000000</td>\n",
       "      <td>19662.000000</td>\n",
       "      <td>19662.000000</td>\n",
       "      <td>19662.000000</td>\n",
       "    </tr>\n",
       "    <tr>\n",
       "      <th>mean</th>\n",
       "      <td>43.260808</td>\n",
       "      <td>4.183145</td>\n",
       "      <td>0.818177</td>\n",
       "      <td>2.652477</td>\n",
       "      <td>0.161937</td>\n",
       "      <td>0.273167</td>\n",
       "      <td>0.071610</td>\n",
       "      <td>0.044706</td>\n",
       "      <td>0.443139</td>\n",
       "      <td>0.005442</td>\n",
       "    </tr>\n",
       "    <tr>\n",
       "      <th>std</th>\n",
       "      <td>12.258122</td>\n",
       "      <td>1.112224</td>\n",
       "      <td>0.385708</td>\n",
       "      <td>5.834285</td>\n",
       "      <td>0.368402</td>\n",
       "      <td>0.445597</td>\n",
       "      <td>0.257848</td>\n",
       "      <td>0.206662</td>\n",
       "      <td>0.496769</td>\n",
       "      <td>0.073571</td>\n",
       "    </tr>\n",
       "    <tr>\n",
       "      <th>min</th>\n",
       "      <td>18.000000</td>\n",
       "      <td>1.000000</td>\n",
       "      <td>0.000000</td>\n",
       "      <td>0.000000</td>\n",
       "      <td>0.000000</td>\n",
       "      <td>0.000000</td>\n",
       "      <td>0.000000</td>\n",
       "      <td>0.000000</td>\n",
       "      <td>0.000000</td>\n",
       "      <td>0.000000</td>\n",
       "    </tr>\n",
       "    <tr>\n",
       "      <th>25%</th>\n",
       "      <td>34.000000</td>\n",
       "      <td>4.000000</td>\n",
       "      <td>1.000000</td>\n",
       "      <td>0.000000</td>\n",
       "      <td>0.000000</td>\n",
       "      <td>0.000000</td>\n",
       "      <td>0.000000</td>\n",
       "      <td>0.000000</td>\n",
       "      <td>0.000000</td>\n",
       "      <td>0.000000</td>\n",
       "    </tr>\n",
       "    <tr>\n",
       "      <th>50%</th>\n",
       "      <td>41.000000</td>\n",
       "      <td>5.000000</td>\n",
       "      <td>1.000000</td>\n",
       "      <td>1.000000</td>\n",
       "      <td>0.000000</td>\n",
       "      <td>0.000000</td>\n",
       "      <td>0.000000</td>\n",
       "      <td>0.000000</td>\n",
       "      <td>0.000000</td>\n",
       "      <td>0.000000</td>\n",
       "    </tr>\n",
       "    <tr>\n",
       "      <th>75%</th>\n",
       "      <td>52.000000</td>\n",
       "      <td>5.000000</td>\n",
       "      <td>1.000000</td>\n",
       "      <td>3.000000</td>\n",
       "      <td>0.000000</td>\n",
       "      <td>1.000000</td>\n",
       "      <td>0.000000</td>\n",
       "      <td>0.000000</td>\n",
       "      <td>1.000000</td>\n",
       "      <td>0.000000</td>\n",
       "    </tr>\n",
       "    <tr>\n",
       "      <th>max</th>\n",
       "      <td>99.000000</td>\n",
       "      <td>5.000000</td>\n",
       "      <td>1.000000</td>\n",
       "      <td>122.000000</td>\n",
       "      <td>1.000000</td>\n",
       "      <td>1.000000</td>\n",
       "      <td>1.000000</td>\n",
       "      <td>1.000000</td>\n",
       "      <td>1.000000</td>\n",
       "      <td>1.000000</td>\n",
       "    </tr>\n",
       "  </tbody>\n",
       "</table>\n",
       "</div>"
      ],
      "text/plain": [
       "                age        rating  recommended_ind  positive_feedback_count  \\\n",
       "count  19662.000000  19662.000000     19662.000000             19662.000000   \n",
       "mean      43.260808      4.183145         0.818177                 2.652477   \n",
       "std       12.258122      1.112224         0.385708                 5.834285   \n",
       "min       18.000000      1.000000         0.000000                 0.000000   \n",
       "25%       34.000000      4.000000         1.000000                 0.000000   \n",
       "50%       41.000000      5.000000         1.000000                 1.000000   \n",
       "75%       52.000000      5.000000         1.000000                 3.000000   \n",
       "max       99.000000      5.000000         1.000000               122.000000   \n",
       "\n",
       "            Bottoms       Dresses      Intimate       Jackets          Tops  \\\n",
       "count  19662.000000  19662.000000  19662.000000  19662.000000  19662.000000   \n",
       "mean       0.161937      0.273167      0.071610      0.044706      0.443139   \n",
       "std        0.368402      0.445597      0.257848      0.206662      0.496769   \n",
       "min        0.000000      0.000000      0.000000      0.000000      0.000000   \n",
       "25%        0.000000      0.000000      0.000000      0.000000      0.000000   \n",
       "50%        0.000000      0.000000      0.000000      0.000000      0.000000   \n",
       "75%        0.000000      1.000000      0.000000      0.000000      1.000000   \n",
       "max        1.000000      1.000000      1.000000      1.000000      1.000000   \n",
       "\n",
       "              Trend  \n",
       "count  19662.000000  \n",
       "mean       0.005442  \n",
       "std        0.073571  \n",
       "min        0.000000  \n",
       "25%        0.000000  \n",
       "50%        0.000000  \n",
       "75%        0.000000  \n",
       "max        1.000000  "
      ]
     },
     "execution_count": 62,
     "metadata": {},
     "output_type": "execute_result"
    }
   ],
   "source": [
    "# getting descriptive statistics of columns of interest\n",
    "regression_data.describe()"
   ]
  },
  {
   "cell_type": "markdown",
   "id": "460fde36-c866-4df1-a49c-595b7c1f88df",
   "metadata": {},
   "source": [
    "### Things to Note:\n",
    "- With missing values removed, there are now 19662 rows\n",
    "- Average rating value is 4.18, so we can conclude ratings are positively skewed\n",
    "- Age has a high standard deviation, meaning age may be less reliable as a predictor variable\n",
    "- Many of these columns are binary (1 or 0) and so statistics like min & max aren't useful"
   ]
  },
  {
   "cell_type": "markdown",
   "id": "913aa02b-513c-4663-b3e7-a1ebfc5ff20e",
   "metadata": {},
   "source": [
    "## Exploratory Analysis\n",
    "### Ratings Distribution\n",
    "- This confirms that the ratings are positively skewed\n",
    "- Because of the large amount of data, this is not a cause for concern, as there are many lower ratings as well"
   ]
  },
  {
   "cell_type": "code",
   "execution_count": 63,
   "id": "20a095cb-2622-43d6-adae-1b61a3eaf0e0",
   "metadata": {},
   "outputs": [
    {
     "data": {
      "text/plain": [
       "<AxesSubplot:title={'center':'Ratings Distribution'}, xlabel='rating', ylabel='Count'>"
      ]
     },
     "execution_count": 63,
     "metadata": {},
     "output_type": "execute_result"
    },
    {
     "data": {
      "image/png": "[encoded data removed]",
      "text/plain": [
       "<Figure size 864x576 with 1 Axes>"
      ]
     },
     "metadata": {
      "needs_background": "light"
     },
     "output_type": "display_data"
    }
   ],
   "source": [
    "# set size of plot\n",
    "plt.figure(figsize=(12, 8))\n",
    "# set title of plot\n",
    "plt.title(label='Ratings Distribution')\n",
    "# create rating distribution\n",
    "sns.histplot(data=regression_data, x='rating', hue='rating', palette='mako', discrete=True)"
   ]
  },
  {
   "cell_type": "markdown",
   "id": "3a4b6dcc-cbbf-4c05-a69b-2e7b28ae9a24",
   "metadata": {},
   "source": [
    "### Age Distribution\n",
    "- There is a large range of ages\n",
    "- Most customers are 30 to 40, which is in line with the mean age\n",
    "- There are outliers who are above 80 years old, contributing to the high standard deviation\n",
    "- Because of an extreme number of customers at certain ages, we added a KDE to get a better idea of the population's age distribution\n",
    "- We should keep an eye on age in the main analysis, as we will likely want to exclude it"
   ]
  },
  {
   "cell_type": "code",
   "execution_count": 64,
   "id": "fe5e270b-f301-445a-9027-3042ef56600b",
   "metadata": {},
   "outputs": [
    {
     "data": {
      "text/plain": [
       "<AxesSubplot:title={'center':'Age Distribution'}, xlabel='age', ylabel='Count'>"
      ]
     },
     "execution_count": 64,
     "metadata": {},
     "output_type": "execute_result"
    },
    {
     "data": {
      "image/png": "[encoded data removed]",
      "text/plain": [
       "<Figure size 864x576 with 1 Axes>"
      ]
     },
     "metadata": {
      "needs_background": "light"
     },
     "output_type": "display_data"
    }
   ],
   "source": [
    "# set size of plot\n",
    "plt.figure(figsize=(12, 8))\n",
    "# set title of plot\n",
    "plt.title(label='Age Distribution')\n",
    "# create age distribution\n",
    "sns.histplot(data=regression_data, x='age', kde=True, palette='mako', discrete=True)"
   ]
  },
  {
   "cell_type": "markdown",
   "id": "0790ab40-7137-4ac3-aabb-19b5f790c63b",
   "metadata": {},
   "source": [
    "## Creating a Correlation Heatmap\n",
    "- Finding correlations between all variables included in the linear regression\n",
    "- The only variables that appear to be highly correlated are recommended_ind & rating at 0.79\n",
    "- This may be concerning as recommended_ind could be the only predictor of rating"
   ]
  },
  {
   "cell_type": "code",
   "execution_count": 65,
   "id": "c52ff9d1-c215-43cb-b96a-ee467c7061ec",
   "metadata": {},
   "outputs": [
    {
     "data": {
      "text/plain": [
       "<AxesSubplot:title={'center':'Variable Correlation Heatmap'}>"
      ]
     },
     "execution_count": 65,
     "metadata": {},
     "output_type": "execute_result"
    },
    {
     "data": {
      "image/png": "[encoded data removed]",
      "text/plain": [
       "<Figure size 1080x576 with 2 Axes>"
      ]
     },
     "metadata": {
      "needs_background": "light"
     },
     "output_type": "display_data"
    }
   ],
   "source": [
    "# set size of plot\n",
    "plt.figure(figsize=(15,8))\n",
    "# set title of plot\n",
    "plt.title(label='Variable Correlation Heatmap')\n",
    "# create heatmap\n",
    "sns.heatmap(regression_data.corr(), annot=True, cmap='vlag')"
   ]
  },
  {
   "cell_type": "markdown",
   "id": "101ff257-eeb6-4da8-b6e7-4093ddba69f9",
   "metadata": {},
   "source": [
    "---\n",
    "# Main Analysis\n",
    "- The main analysis for trying to predict customer ratings of clothing items\n",
    "- Using a linear regression model to investigate how each independent variable contributes to the dependent variable\n",
    "- Using regression modelling to test & confirm the model\n",
    "- Because all of the variables in the analysis are discrete, there is no way to clearly visualize the relationships in charts"
   ]
  },
  {
   "cell_type": "code",
   "execution_count": 66,
   "id": "27e455d0-f37a-48e0-8a41-ba0d900ec5ff",
   "metadata": {},
   "outputs": [],
   "source": [
    "# defining dependent & independent variables & adding the constant\n",
    "# dependent variable is rating\n",
    "dep_var = regression_data['rating']\n",
    "#independent variables are all columns except rating\n",
    "ind_vars = regression_data.drop('rating', axis=1)\n",
    "# constant = 1\n",
    "ind_vars['constant'] = 1"
   ]
  },
  {
   "cell_type": "markdown",
   "id": "6c119e2a-3277-4e97-b287-8848f11daeec",
   "metadata": {},
   "source": [
    "## Linear Regression Attempt 1\n",
    "- R-squared is moderate, so we will try to improve the model\n",
    "- Note that the coefficient of recommended_ind is much higher than any other independent variable, as we expected due to their high level of correlation"
   ]
  },
  {
   "cell_type": "code",
   "execution_count": 68,
   "id": "b74bc881-c3d4-4315-a978-cde0c5f7dbff",
   "metadata": {},
   "outputs": [
    {
     "name": "stdout",
     "output_type": "stream",
     "text": [
      "                            OLS Regression Results                            \n",
      "==============================================================================\n",
      "Dep. Variable:                 rating   R-squared:                       0.630\n",
      "Model:                            OLS   Adj. R-squared:                  0.629\n",
      "Method:                 Least Squares   F-statistic:                     4175.\n",
      "Date:                Wed, 15 Dec 2021   Prob (F-statistic):               0.00\n",
      "Time:                        12:41:36   Log-Likelihood:                -20228.\n",
      "No. Observations:               19662   AIC:                         4.047e+04\n",
      "Df Residuals:                   19653   BIC:                         4.054e+04\n",
      "Df Model:                           8                                         \n",
      "Covariance Type:            nonrobust                                         \n",
      "===========================================================================================\n",
      "                              coef    std err          t      P>|t|      [0.025      0.975]\n",
      "-------------------------------------------------------------------------------------------\n",
      "age                         0.0007      0.000      1.682      0.093      -0.000       0.001\n",
      "recommended_ind             2.2826      0.013    181.645      0.000       2.258       2.307\n",
      "positive_feedback_count    -0.0018      0.001     -2.140      0.032      -0.003      -0.000\n",
      "Bottoms                     0.3706      0.015     24.845      0.000       0.341       0.400\n",
      "Dresses                     0.3353      0.013     25.162      0.000       0.309       0.361\n",
      "Intimate                    0.3570      0.019     19.097      0.000       0.320       0.394\n",
      "Jackets                     0.3816      0.022     17.180      0.000       0.338       0.425\n",
      "Tops                        0.3395      0.013     27.058      0.000       0.315       0.364\n",
      "Trend                       0.1621      0.056      2.874      0.004       0.052       0.273\n",
      "constant                    1.9460      0.020     97.747      0.000       1.907       1.985\n",
      "==============================================================================\n",
      "Omnibus:                     2744.372   Durbin-Watson:                   1.998\n",
      "Prob(Omnibus):                  0.000   Jarque-Bera (JB):             4226.796\n",
      "Skew:                          -0.996   Prob(JB):                         0.00\n",
      "Kurtosis:                       4.091   Cond. No.                     1.30e+17\n",
      "==============================================================================\n",
      "\n",
      "Notes:\n",
      "[1] Standard Errors assume that the covariance matrix of the errors is correctly specified.\n",
      "[2] The smallest eigenvalue is 2.38e-27. This might indicate that there are\n",
      "strong multicollinearity problems or that the design matrix is singular.\n"
     ]
    }
   ],
   "source": [
    "# running the linear regression\n",
    "lin_reg = sm.OLS(dep_var, ind_vars)\n",
    "reg_results = lin_reg.fit()\n",
    "print(reg_results.summary())"
   ]
  },
  {
   "cell_type": "markdown",
   "id": "8bb4e623-d0e9-4419-a52e-9488ec0d4a16",
   "metadata": {},
   "source": [
    "## Linear Regression Attempt 2\n",
    "- Removing age, positive_feedback_count, & Trend variables as they have low coefficients & high p-values\n",
    "- This confirms what we thought, that age is a poor predictor of rating\n",
    "- Removing these variables does not improve the overall model"
   ]
  },
  {
   "cell_type": "code",
   "execution_count": 69,
   "id": "a17137bd-f212-4939-92bf-f280e92765a7",
   "metadata": {},
   "outputs": [],
   "source": [
    "# removing positive_feedback_count, age, & Trend\n",
    "ind_vars2 = ind_vars.drop(columns=['age', 'positive_feedback_count', 'Trend'])"
   ]
  },
  {
   "cell_type": "code",
   "execution_count": 70,
   "id": "a35c4e16-4e70-4a7c-9d6e-f59fabc0d556",
   "metadata": {},
   "outputs": [
    {
     "name": "stdout",
     "output_type": "stream",
     "text": [
      "                            OLS Regression Results                            \n",
      "==============================================================================\n",
      "Dep. Variable:                 rating   R-squared:                       0.629\n",
      "Model:                            OLS   Adj. R-squared:                  0.629\n",
      "Method:                 Least Squares   F-statistic:                     5564.\n",
      "Date:                Wed, 15 Dec 2021   Prob (F-statistic):               0.00\n",
      "Time:                        12:41:38   Log-Likelihood:                -20231.\n",
      "No. Observations:               19662   AIC:                         4.048e+04\n",
      "Df Residuals:                   19655   BIC:                         4.053e+04\n",
      "Df Model:                           6                                         \n",
      "Covariance Type:            nonrobust                                         \n",
      "===================================================================================\n",
      "                      coef    std err          t      P>|t|      [0.025      0.975]\n",
      "-----------------------------------------------------------------------------------\n",
      "recommended_ind     2.2849      0.013    182.240      0.000       2.260       2.309\n",
      "Bottoms             0.2092      0.067      3.143      0.002       0.079       0.340\n",
      "Dresses             0.1717      0.066      2.597      0.009       0.042       0.301\n",
      "Intimate            0.1949      0.068      2.870      0.004       0.062       0.328\n",
      "Jackets             0.2197      0.069      3.168      0.002       0.084       0.356\n",
      "Tops                0.1783      0.066      2.707      0.007       0.049       0.307\n",
      "constant            2.1302      0.066     32.202      0.000       2.000       2.260\n",
      "==============================================================================\n",
      "Omnibus:                     2745.381   Durbin-Watson:                   1.998\n",
      "Prob(Omnibus):                  0.000   Jarque-Bera (JB):             4229.430\n",
      "Skew:                          -0.996   Prob(JB):                         0.00\n",
      "Kurtosis:                       4.092   Cond. No.                         47.6\n",
      "==============================================================================\n",
      "\n",
      "Notes:\n",
      "[1] Standard Errors assume that the covariance matrix of the errors is correctly specified.\n"
     ]
    }
   ],
   "source": [
    "# running the linear regression\n",
    "lin_reg2 = sm.OLS(dep_var, ind_vars2)\n",
    "reg_results2 = lin_reg2.fit()\n",
    "print(reg_results2.summary())"
   ]
  },
  {
   "cell_type": "markdown",
   "id": "bca3e69b-38a4-4834-913f-6da5b8556249",
   "metadata": {},
   "source": [
    "## Linear Regression Attempt 3: Only Rating & Recommendation\n",
    "- recommended_ind appears to be accounting for most of the predictive power of the model\n",
    "- Running a linear regression only between rating & recommended_ind to further investigate this relationship\n",
    "- Removing all independent variables other than recommended_ind did not change the value of r-squared\n",
    "- We can conclude that the relationship between rating & recommendation status is very strong, & that no other independent variables are substantially related to rating"
   ]
  },
  {
   "cell_type": "code",
   "execution_count": 71,
   "id": "e6f834b0-6596-419a-a2b7-43e131255bc6",
   "metadata": {},
   "outputs": [],
   "source": [
    "# removing all independent variables other than recommended_ind\n",
    "ind_vars3 = ind_vars2.drop(columns=['Bottoms', 'Dresses', 'Intimate', 'Jackets', 'Tops'])"
   ]
  },
  {
   "cell_type": "code",
   "execution_count": 72,
   "id": "0a9535b1-6c25-4dde-95c7-f229ba52b2a9",
   "metadata": {
    "scrolled": true
   },
   "outputs": [
    {
     "name": "stdout",
     "output_type": "stream",
     "text": [
      "                            OLS Regression Results                            \n",
      "==============================================================================\n",
      "Dep. Variable:                 rating   R-squared:                       0.629\n",
      "Model:                            OLS   Adj. R-squared:                  0.629\n",
      "Method:                 Least Squares   F-statistic:                 3.334e+04\n",
      "Date:                Wed, 15 Dec 2021   Prob (F-statistic):               0.00\n",
      "Time:                        12:41:40   Log-Likelihood:                -20240.\n",
      "No. Observations:               19662   AIC:                         4.048e+04\n",
      "Df Residuals:                   19660   BIC:                         4.050e+04\n",
      "Df Model:                           1                                         \n",
      "Covariance Type:            nonrobust                                         \n",
      "===================================================================================\n",
      "                      coef    std err          t      P>|t|      [0.025      0.975]\n",
      "-----------------------------------------------------------------------------------\n",
      "recommended_ind     2.2871      0.013    182.601      0.000       2.263       2.312\n",
      "constant            2.3119      0.011    204.061      0.000       2.290       2.334\n",
      "==============================================================================\n",
      "Omnibus:                     2750.775   Durbin-Watson:                   1.997\n",
      "Prob(Omnibus):                  0.000   Jarque-Bera (JB):             4242.265\n",
      "Skew:                          -0.997   Prob(JB):                         0.00\n",
      "Kurtosis:                       4.095   Cond. No.                         4.49\n",
      "==============================================================================\n",
      "\n",
      "Notes:\n",
      "[1] Standard Errors assume that the covariance matrix of the errors is correctly specified.\n"
     ]
    }
   ],
   "source": [
    "# running the linear regression\n",
    "lin_reg3 = sm.OLS(dep_var, ind_vars3)\n",
    "reg_results3 = lin_reg3.fit()\n",
    "print(reg_results3.summary())"
   ]
  },
  {
   "cell_type": "markdown",
   "id": "319d1900",
   "metadata": {},
   "source": [
    "## Testing the Final Model"
   ]
  },
  {
   "cell_type": "code",
   "execution_count": 73,
   "id": "3cf78e9a",
   "metadata": {},
   "outputs": [],
   "source": [
    "# defining independent variables\n",
    "X = ind_vars3\n",
    "# defining dependent variable\n",
    "y = dep_var"
   ]
  },
  {
   "cell_type": "code",
   "execution_count": 76,
   "id": "2d73636a",
   "metadata": {},
   "outputs": [],
   "source": [
    "# creating test & train sets for independent & dependent variables\n",
    "X_train, X_test, y_train, y_test = train_test_split(X, y, test_size=0.2, random_state=175)"
   ]
  },
  {
   "cell_type": "code",
   "execution_count": 77,
   "id": "f7ed2171",
   "metadata": {},
   "outputs": [
    {
     "name": "stdout",
     "output_type": "stream",
     "text": [
      "(15729, 2)\n",
      "(3933, 2)\n",
      "(15729,)\n",
      "(3933,)\n"
     ]
    }
   ],
   "source": [
    "# viewing the size & shape of the sets that were created\n",
    "# each train set has 15729 rows, & each test set has 3933 rows\n",
    "print(X_train.shape)\n",
    "print(X_test.shape)\n",
    "print(y_train.shape)\n",
    "print(y_test.shape)"
   ]
  },
  {
   "cell_type": "code",
   "execution_count": 78,
   "id": "f05eb5e1",
   "metadata": {},
   "outputs": [
    {
     "data": {
      "text/plain": [
       "LinearRegression()"
      ]
     },
     "execution_count": 78,
     "metadata": {},
     "output_type": "execute_result"
    }
   ],
   "source": [
    "# fitting the linear regression\n",
    "lr = LinearRegression()\n",
    "\n",
    "lr.fit(X_train, y_train)"
   ]
  },
  {
   "cell_type": "code",
   "execution_count": 79,
   "id": "9961ee56",
   "metadata": {},
   "outputs": [],
   "source": [
    "# getting salary values when test values are entered\n",
    "y_pred = lr.predict(X_test)"
   ]
  },
  {
   "cell_type": "markdown",
   "id": "9aee06f9",
   "metadata": {},
   "source": [
    "## Evaluating the Model\n",
    "- On average, this model's prediction of ratings is off by 0.67\n",
    "- The model has moderate predictive power consistent with the linear regression results"
   ]
  },
  {
   "cell_type": "code",
   "execution_count": 80,
   "id": "389132a2",
   "metadata": {},
   "outputs": [
    {
     "name": "stdout",
     "output_type": "stream",
     "text": [
      "RMSE: 0.67\n",
      "R-Squared: 0.62\n"
     ]
    }
   ],
   "source": [
    "# calculating RMSE\n",
    "print('RMSE:',np.round(sqrt(mt.mean_squared_error(y_test,y_pred)),2))\n",
    "\n",
    "# calculating R-Square; closer to 1 is better\n",
    "print('R-Squared:',np.round(mt.r2_score(y_test,y_pred),2))"
   ]
  },
  {
   "cell_type": "markdown",
   "id": "9a1a3927",
   "metadata": {},
   "source": [
    "#### Cross Validation\n",
    "- Checking the model again by increasing the amount of test data\n",
    "- The average cross-validation score is close to the model's R-squared value, reinforcing the medium prediction power of the model"
   ]
  },
  {
   "cell_type": "code",
   "execution_count": 81,
   "id": "f7e60a55",
   "metadata": {},
   "outputs": [
    {
     "name": "stdout",
     "output_type": "stream",
     "text": [
      "0.6315915069824405\n"
     ]
    }
   ],
   "source": [
    "# finding the cross-validation score using 10 folds\n",
    "print(np.mean(cross_val_score(lr, X_train, y_train, cv=10)))"
   ]
  },
  {
   "cell_type": "markdown",
   "id": "623a7908-5d76-44c3-8cb9-37536dbb1e7e",
   "metadata": {},
   "source": [
    "## Relationship Between Recommendation Status & Rating\n",
    "- Because of the results of Linear Regression 3, we should further investigate the relationship between recommendation status & rating\n",
    "- The first chart is a bar graph showing the average rating for items that were & were not recommended\n",
    "- It is clear that the average rating of those who did recommend the item is much higher than those who did not\n",
    "- The second chart is a histogram showing the proportion of customers who chose each rating number & their recommendation status\n",
    "- It is evident that items that were more highly rated were also recommended more often"
   ]
  },
  {
   "cell_type": "code",
   "execution_count": 25,
   "id": "8d1d37ff-bdef-4a8e-9a52-f543e49256d4",
   "metadata": {},
   "outputs": [
    {
     "data": {
      "text/plain": [
       "<AxesSubplot:title={'center':'Mean Rating by Recommendation Status'}, xlabel='recommended_ind', ylabel='rating'>"
      ]
     },
     "execution_count": 25,
     "metadata": {},
     "output_type": "execute_result"
    },
    {
     "data": {
      "image/png": "[encoded data removed]",
      "text/plain": [
       "<Figure size 864x576 with 1 Axes>"
      ]
     },
     "metadata": {
      "needs_background": "light"
     },
     "output_type": "display_data"
    }
   ],
   "source": [
    "# set size for plot\n",
    "plt.figure(figsize=(12, 8))\n",
    "# set title of plot\n",
    "plt.title(label='Mean Rating by Recommendation Status')\n",
    "# comparing rating means of items that were or were not recommended\n",
    "sns.barplot(data=regression_data, x='recommended_ind', y='rating', palette='mako')"
   ]
  },
  {
   "cell_type": "code",
   "execution_count": 26,
   "id": "1d0cdb4c-21d4-4884-a9d9-5a27ac93e2fb",
   "metadata": {},
   "outputs": [
    {
     "data": {
      "text/plain": [
       "<AxesSubplot:title={'center':'Recommendation Status Totals by Rating'}, xlabel='rating', ylabel='count'>"
      ]
     },
     "execution_count": 26,
     "metadata": {},
     "output_type": "execute_result"
    },
    {
     "data": {
      "image/png": "[encoded data removed]",
      "text/plain": [
       "<Figure size 864x576 with 1 Axes>"
      ]
     },
     "metadata": {
      "needs_background": "light"
     },
     "output_type": "display_data"
    }
   ],
   "source": [
    "# set size for plot\n",
    "plt.figure(figsize=(12, 8))\n",
    "# set title of plot\n",
    "plt.title(label='Recommendation Status Totals by Rating')\n",
    "# distribution of ratings with colour indicating recommendation status\n",
    "sns.countplot(data=regression_data, x='rating', hue='recommended_ind', palette='mako', dodge=True)"
   ]
  },
  {
   "cell_type": "markdown",
   "id": "b27b8dae-d8d7-4cd6-b8fe-5df606ea3a18",
   "metadata": {},
   "source": [
    "---\n",
    "# Conclusion\n",
    "With the information provided by this dataset, we are able to predict customer ratings with moderate accuracy, however, almost all of that prediction power comes from a single variable. Though recommendation status is associated with ratings, it is essentially useless as a predictor. Similar to rating, it is a customer provided value rather than an attribute of the item or factor that can be controlled by the company. This gives the company no information on how to improve website ratings, or to improve their catalogue."
   ]
  },
  {
   "cell_type": "markdown",
   "id": "7550130f-d44e-48c6-bd78-4c34b4c317b7",
   "metadata": {},
   "source": [
    "---\n",
    "# Recommendations\n",
    "- Include more information in the reviews that could better predict ratings (possibly rating of fit and size, selections of why they liked and did not like the item, etc.)\n",
    "- Include either rating or recommendation column; they are highly correlated so both are not necessary\n",
    "- Once changes have been implemented and more data is collected, use factors that correlate with rating to optimize products & push those which correlate with higher ratings\n",
    "- By predicting which items will be rated higher, it is possible to influence consumer behaviour"
   ]
  }
 ],
 "metadata": {
  "kernelspec": {
   "display_name": "Python 3",
   "language": "python",
   "name": "python3"
  },
  "language_info": {
   "codemirror_mode": {
    "name": "ipython",
    "version": 3
   },
   "file_extension": ".py",
   "mimetype": "text/x-python",
   "name": "python",
   "nbconvert_exporter": "python",
   "pygments_lexer": "ipython3",
   "version": "3.8.8"
  },
  "toc": {
   "base_numbering": 1,
   "nav_menu": {},
   "number_sections": false,
   "sideBar": true,
   "skip_h1_title": false,
   "title_cell": "Table of Contents",
   "title_sidebar": "Contents",
   "toc_cell": false,
   "toc_position": {
    "height": "calc(100% - 180px)",
    "left": "10px",
    "top": "150px",
    "width": "233.188px"
   },
   "toc_section_display": true,
   "toc_window_display": true
  },
  "varInspector": {
   "cols": {
    "lenName": 16,
    "lenType": 16,
    "lenVar": 40
   },
   "kernels_config": {
    "python": {
     "delete_cmd_postfix": "",
     "delete_cmd_prefix": "del ",
     "library": "var_list.py",
     "varRefreshCmd": "print(var_dic_list())"
    },
    "r": {
     "delete_cmd_postfix": ") ",
     "delete_cmd_prefix": "rm(",
     "library": "var_list.r",
     "varRefreshCmd": "cat(var_dic_list()) "
    }
   },
   "types_to_exclude": [
    "module",
    "function",
    "builtin_function_or_method",
    "instance",
    "_Feature"
   ],
   "window_display": false
  }
 },
 "nbformat": 4,
 "nbformat_minor": 5
}
